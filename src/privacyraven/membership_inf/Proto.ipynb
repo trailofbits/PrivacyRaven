{
 "cells": [
  {
   "cell_type": "code",
   "execution_count": 3,
   "metadata": {},
   "outputs": [
    {
     "name": "stderr",
     "output_type": "stream",
     "text": [
      "GPU available: True, used: True\n",
      "TPU available: False, using: 0 TPU cores\n",
      "LOCAL_RANK: 0 - CUDA_VISIBLE_DEVICES: [0]\n",
      "\n",
      "  | Name    | Type   | Params\n",
      "-----------------------------------\n",
      "0 | layer_1 | Linear | 100 K \n",
      "1 | layer_2 | Linear | 33 K  \n",
      "2 | layer_3 | Linear | 2 K   \n"
     ]
    },
    {
     "data": {
      "application/vnd.jupyter.widget-view+json": {
       "model_id": "",
       "version_major": 2,
       "version_minor": 0
      },
      "text/plain": [
       "HBox(children=(HTML(value='Validation sanity check'), FloatProgress(value=1.0, bar_style='info', layout=Layout…"
      ]
     },
     "metadata": {},
     "output_type": "display_data"
    },
    {
     "data": {
      "application/vnd.jupyter.widget-view+json": {
       "model_id": "033ba6a915e3478b826fba208a80b53c",
       "version_major": 2,
       "version_minor": 0
      },
      "text/plain": [
       "HBox(children=(HTML(value='Training'), FloatProgress(value=1.0, bar_style='info', layout=Layout(flex='2'), max…"
      ]
     },
     "metadata": {},
     "output_type": "display_data"
    },
    {
     "data": {
      "application/vnd.jupyter.widget-view+json": {
       "model_id": "",
       "version_major": 2,
       "version_minor": 0
      },
      "text/plain": [
       "HBox(children=(HTML(value='Validating'), FloatProgress(value=1.0, bar_style='info', layout=Layout(flex='2'), m…"
      ]
     },
     "metadata": {},
     "output_type": "display_data"
    },
    {
     "data": {
      "application/vnd.jupyter.widget-view+json": {
       "model_id": "",
       "version_major": 2,
       "version_minor": 0
      },
      "text/plain": [
       "HBox(children=(HTML(value='Validating'), FloatProgress(value=1.0, bar_style='info', layout=Layout(flex='2'), m…"
      ]
     },
     "metadata": {},
     "output_type": "display_data"
    },
    {
     "data": {
      "application/vnd.jupyter.widget-view+json": {
       "model_id": "",
       "version_major": 2,
       "version_minor": 0
      },
      "text/plain": [
       "HBox(children=(HTML(value='Validating'), FloatProgress(value=1.0, bar_style='info', layout=Layout(flex='2'), m…"
      ]
     },
     "metadata": {},
     "output_type": "display_data"
    },
    {
     "data": {
      "application/vnd.jupyter.widget-view+json": {
       "model_id": "",
       "version_major": 2,
       "version_minor": 0
      },
      "text/plain": [
       "HBox(children=(HTML(value='Validating'), FloatProgress(value=1.0, bar_style='info', layout=Layout(flex='2'), m…"
      ]
     },
     "metadata": {},
     "output_type": "display_data"
    },
    {
     "data": {
      "application/vnd.jupyter.widget-view+json": {
       "model_id": "",
       "version_major": 2,
       "version_minor": 0
      },
      "text/plain": [
       "HBox(children=(HTML(value='Validating'), FloatProgress(value=1.0, bar_style='info', layout=Layout(flex='2'), m…"
      ]
     },
     "metadata": {},
     "output_type": "display_data"
    },
    {
     "data": {
      "application/vnd.jupyter.widget-view+json": {
       "model_id": "",
       "version_major": 2,
       "version_minor": 0
      },
      "text/plain": [
       "HBox(children=(HTML(value='Validating'), FloatProgress(value=1.0, bar_style='info', layout=Layout(flex='2'), m…"
      ]
     },
     "metadata": {},
     "output_type": "display_data"
    },
    {
     "data": {
      "application/vnd.jupyter.widget-view+json": {
       "model_id": "",
       "version_major": 2,
       "version_minor": 0
      },
      "text/plain": [
       "HBox(children=(HTML(value='Validating'), FloatProgress(value=1.0, bar_style='info', layout=Layout(flex='2'), m…"
      ]
     },
     "metadata": {},
     "output_type": "display_data"
    },
    {
     "data": {
      "application/vnd.jupyter.widget-view+json": {
       "model_id": "",
       "version_major": 2,
       "version_minor": 0
      },
      "text/plain": [
       "HBox(children=(HTML(value='Validating'), FloatProgress(value=1.0, bar_style='info', layout=Layout(flex='2'), m…"
      ]
     },
     "metadata": {},
     "output_type": "display_data"
    },
    {
     "name": "stdout",
     "output_type": "stream",
     "text": [
      "\n"
     ]
    },
    {
     "data": {
      "application/vnd.jupyter.widget-view+json": {
       "model_id": "521b9b3019b94748a26dd3a7b7a5e528",
       "version_major": 2,
       "version_minor": 0
      },
      "text/plain": [
       "HBox(children=(HTML(value='Testing'), FloatProgress(value=1.0, bar_style='info', layout=Layout(flex='2'), max=…"
      ]
     },
     "metadata": {},
     "output_type": "display_data"
    },
    {
     "name": "stdout",
     "output_type": "stream",
     "text": [
      "--------------------------------------------------------------------------------\n",
      "DATALOADER:0 TEST RESULTS\n",
      "{'avg_test_loss': tensor(0.0972, device='cuda:0'),\n",
      " 'test_loss': tensor(0.0972, device='cuda:0')}\n",
      "--------------------------------------------------------------------------------\n",
      "\n",
      "torch.Size([50, 1, 28, 28])\n",
      "torch.Size([50, 10])\n",
      "torch.Size([50, 1, 28, 28])\n",
      "torch.Size([50, 10])\n",
      "Synthesis complete\n",
      "Synthetic Data Generated\n"
     ]
    },
    {
     "name": "stderr",
     "output_type": "stream",
     "text": [
      "GPU available: True, used: True\n",
      "TPU available: False, using: 0 TPU cores\n",
      "LOCAL_RANK: 0 - CUDA_VISIBLE_DEVICES: [0]\n",
      "\n",
      "  | Name              | Type        | Params\n",
      "--------------------------------------------------\n",
      "0 | feature_extractor | MobileNetV2 | 3 M   \n",
      "1 | layer_1           | Linear      | 128 K \n",
      "2 | layer_2           | Linear      | 33 K  \n",
      "3 | layer_3           | Linear      | 2 K   \n"
     ]
    },
    {
     "data": {
      "application/vnd.jupyter.widget-view+json": {
       "model_id": "",
       "version_major": 2,
       "version_minor": 0
      },
      "text/plain": [
       "HBox(children=(HTML(value='Validation sanity check'), FloatProgress(value=1.0, bar_style='info', layout=Layout…"
      ]
     },
     "metadata": {},
     "output_type": "display_data"
    },
    {
     "data": {
      "application/vnd.jupyter.widget-view+json": {
       "model_id": "8723cb845355484290e9e6b856dbd2e7",
       "version_major": 2,
       "version_minor": 0
      },
      "text/plain": [
       "HBox(children=(HTML(value='Training'), FloatProgress(value=1.0, bar_style='info', layout=Layout(flex='2'), max…"
      ]
     },
     "metadata": {},
     "output_type": "display_data"
    },
    {
     "data": {
      "application/vnd.jupyter.widget-view+json": {
       "model_id": "",
       "version_major": 2,
       "version_minor": 0
      },
      "text/plain": [
       "HBox(children=(HTML(value='Validating'), FloatProgress(value=1.0, bar_style='info', layout=Layout(flex='2'), m…"
      ]
     },
     "metadata": {},
     "output_type": "display_data"
    },
    {
     "name": "stderr",
     "output_type": "stream",
     "text": [
      "avg_val_loss│val_loss│train_loss│loss\n",
      "─────────────────────────────────────\n",
      "2.326599597930908│2.326599597930908│2.4186367988586426│2.4186367988586426\n"
     ]
    },
    {
     "data": {
      "application/vnd.jupyter.widget-view+json": {
       "model_id": "",
       "version_major": 2,
       "version_minor": 0
      },
      "text/plain": [
       "HBox(children=(HTML(value='Validating'), FloatProgress(value=1.0, bar_style='info', layout=Layout(flex='2'), m…"
      ]
     },
     "metadata": {},
     "output_type": "display_data"
    },
    {
     "name": "stderr",
     "output_type": "stream",
     "text": [
      "avg_val_loss│val_loss│train_loss│loss\n",
      "─────────────────────────────────────\n",
      "2.326599597930908│2.326599597930908│2.4186367988586426│2.4186367988586426\n",
      "2.3566532135009766│2.3566532135009766│1.7656333446502686│1.7656333446502686\n"
     ]
    },
    {
     "data": {
      "application/vnd.jupyter.widget-view+json": {
       "model_id": "",
       "version_major": 2,
       "version_minor": 0
      },
      "text/plain": [
       "HBox(children=(HTML(value='Validating'), FloatProgress(value=1.0, bar_style='info', layout=Layout(flex='2'), m…"
      ]
     },
     "metadata": {},
     "output_type": "display_data"
    },
    {
     "name": "stderr",
     "output_type": "stream",
     "text": [
      "avg_val_loss│val_loss│train_loss│loss\n",
      "─────────────────────────────────────\n",
      "2.326599597930908│2.326599597930908│2.4186367988586426│2.4186367988586426\n",
      "2.3566532135009766│2.3566532135009766│1.7656333446502686│1.7656333446502686\n",
      "2.3874757289886475│2.3874757289886475│1.0166378021240234│1.0166378021240234\n"
     ]
    },
    {
     "data": {
      "application/vnd.jupyter.widget-view+json": {
       "model_id": "",
       "version_major": 2,
       "version_minor": 0
      },
      "text/plain": [
       "HBox(children=(HTML(value='Validating'), FloatProgress(value=1.0, bar_style='info', layout=Layout(flex='2'), m…"
      ]
     },
     "metadata": {},
     "output_type": "display_data"
    },
    {
     "name": "stderr",
     "output_type": "stream",
     "text": [
      "avg_val_loss│val_loss│train_loss│loss\n",
      "─────────────────────────────────────\n",
      "2.326599597930908│2.326599597930908│2.4186367988586426│2.4186367988586426\n",
      "2.3566532135009766│2.3566532135009766│1.7656333446502686│1.7656333446502686\n",
      "2.3874757289886475│2.3874757289886475│1.0166378021240234│1.0166378021240234\n",
      "2.5135140419006348│2.5135140419006348│0.5877996683120728│0.5877996683120728\n"
     ]
    },
    {
     "data": {
      "application/vnd.jupyter.widget-view+json": {
       "model_id": "",
       "version_major": 2,
       "version_minor": 0
      },
      "text/plain": [
       "HBox(children=(HTML(value='Validating'), FloatProgress(value=1.0, bar_style='info', layout=Layout(flex='2'), m…"
      ]
     },
     "metadata": {},
     "output_type": "display_data"
    },
    {
     "name": "stderr",
     "output_type": "stream",
     "text": [
      "avg_val_loss│val_loss│train_loss│loss\n",
      "─────────────────────────────────────\n",
      "2.326599597930908│2.326599597930908│2.4186367988586426│2.4186367988586426\n",
      "2.3566532135009766│2.3566532135009766│1.7656333446502686│1.7656333446502686\n",
      "2.3874757289886475│2.3874757289886475│1.0166378021240234│1.0166378021240234\n",
      "2.5135140419006348│2.5135140419006348│0.5877996683120728│0.5877996683120728\n",
      "2.737476110458374│2.737476110458374│0.27622270584106445│0.27622270584106445\n"
     ]
    },
    {
     "data": {
      "application/vnd.jupyter.widget-view+json": {
       "model_id": "",
       "version_major": 2,
       "version_minor": 0
      },
      "text/plain": [
       "HBox(children=(HTML(value='Validating'), FloatProgress(value=1.0, bar_style='info', layout=Layout(flex='2'), m…"
      ]
     },
     "metadata": {},
     "output_type": "display_data"
    },
    {
     "name": "stderr",
     "output_type": "stream",
     "text": [
      "avg_val_loss│val_loss│train_loss│loss\n",
      "─────────────────────────────────────\n",
      "2.326599597930908│2.326599597930908│2.4186367988586426│2.4186367988586426\n",
      "2.3566532135009766│2.3566532135009766│1.7656333446502686│1.7656333446502686\n",
      "2.3874757289886475│2.3874757289886475│1.0166378021240234│1.0166378021240234\n",
      "2.5135140419006348│2.5135140419006348│0.5877996683120728│0.5877996683120728\n",
      "2.737476110458374│2.737476110458374│0.27622270584106445│0.27622270584106445\n",
      "3.0919551849365234│3.0919551849365234│0.0814519077539444│0.0814519077539444\n"
     ]
    },
    {
     "data": {
      "application/vnd.jupyter.widget-view+json": {
       "model_id": "",
       "version_major": 2,
       "version_minor": 0
      },
      "text/plain": [
       "HBox(children=(HTML(value='Validating'), FloatProgress(value=1.0, bar_style='info', layout=Layout(flex='2'), m…"
      ]
     },
     "metadata": {},
     "output_type": "display_data"
    },
    {
     "name": "stderr",
     "output_type": "stream",
     "text": [
      "avg_val_loss│val_loss│train_loss│loss\n",
      "─────────────────────────────────────\n",
      "2.326599597930908│2.326599597930908│2.4186367988586426│2.4186367988586426\n",
      "2.3566532135009766│2.3566532135009766│1.7656333446502686│1.7656333446502686\n",
      "2.3874757289886475│2.3874757289886475│1.0166378021240234│1.0166378021240234\n",
      "2.5135140419006348│2.5135140419006348│0.5877996683120728│0.5877996683120728\n",
      "2.737476110458374│2.737476110458374│0.27622270584106445│0.27622270584106445\n",
      "3.0919551849365234│3.0919551849365234│0.0814519077539444│0.0814519077539444\n",
      "3.5008156299591064│3.5008156299591064│0.028751015663146973│0.028751015663146973\n"
     ]
    },
    {
     "data": {
      "application/vnd.jupyter.widget-view+json": {
       "model_id": "",
       "version_major": 2,
       "version_minor": 0
      },
      "text/plain": [
       "HBox(children=(HTML(value='Validating'), FloatProgress(value=1.0, bar_style='info', layout=Layout(flex='2'), m…"
      ]
     },
     "metadata": {},
     "output_type": "display_data"
    },
    {
     "name": "stderr",
     "output_type": "stream",
     "text": [
      "avg_val_loss│val_loss│train_loss│loss\n",
      "─────────────────────────────────────\n",
      "2.326599597930908│2.326599597930908│2.4186367988586426│2.4186367988586426\n",
      "2.3566532135009766│2.3566532135009766│1.7656333446502686│1.7656333446502686\n",
      "2.3874757289886475│2.3874757289886475│1.0166378021240234│1.0166378021240234\n",
      "2.5135140419006348│2.5135140419006348│0.5877996683120728│0.5877996683120728\n",
      "2.737476110458374│2.737476110458374│0.27622270584106445│0.27622270584106445\n",
      "3.0919551849365234│3.0919551849365234│0.0814519077539444│0.0814519077539444\n",
      "3.5008156299591064│3.5008156299591064│0.028751015663146973│0.028751015663146973\n",
      "3.940340757369995│3.940340757369995│0.008133718743920326│0.008133718743920326\n"
     ]
    },
    {
     "data": {
      "application/vnd.jupyter.widget-view+json": {
       "model_id": "",
       "version_major": 2,
       "version_minor": 0
      },
      "text/plain": [
       "HBox(children=(HTML(value='Validating'), FloatProgress(value=1.0, bar_style='info', layout=Layout(flex='2'), m…"
      ]
     },
     "metadata": {},
     "output_type": "display_data"
    },
    {
     "name": "stderr",
     "output_type": "stream",
     "text": [
      "avg_val_loss│val_loss│train_loss│loss\n",
      "─────────────────────────────────────\n",
      "2.326599597930908│2.326599597930908│2.4186367988586426│2.4186367988586426\n",
      "2.3566532135009766│2.3566532135009766│1.7656333446502686│1.7656333446502686\n",
      "2.3874757289886475│2.3874757289886475│1.0166378021240234│1.0166378021240234\n",
      "2.5135140419006348│2.5135140419006348│0.5877996683120728│0.5877996683120728\n",
      "2.737476110458374│2.737476110458374│0.27622270584106445│0.27622270584106445\n",
      "3.0919551849365234│3.0919551849365234│0.0814519077539444│0.0814519077539444\n",
      "3.5008156299591064│3.5008156299591064│0.028751015663146973│0.028751015663146973\n",
      "3.940340757369995│3.940340757369995│0.008133718743920326│0.008133718743920326\n",
      "4.384536266326904│4.384536266326904│0.0037335376255214214│0.0037335376255214214\n"
     ]
    },
    {
     "data": {
      "application/vnd.jupyter.widget-view+json": {
       "model_id": "",
       "version_major": 2,
       "version_minor": 0
      },
      "text/plain": [
       "HBox(children=(HTML(value='Validating'), FloatProgress(value=1.0, bar_style='info', layout=Layout(flex='2'), m…"
      ]
     },
     "metadata": {},
     "output_type": "display_data"
    },
    {
     "name": "stderr",
     "output_type": "stream",
     "text": [
      "avg_val_loss│val_loss│train_loss│loss\n",
      "─────────────────────────────────────\n",
      "2.326599597930908│2.326599597930908│2.4186367988586426│2.4186367988586426\n",
      "2.3566532135009766│2.3566532135009766│1.7656333446502686│1.7656333446502686\n",
      "2.3874757289886475│2.3874757289886475│1.0166378021240234│1.0166378021240234\n",
      "2.5135140419006348│2.5135140419006348│0.5877996683120728│0.5877996683120728\n",
      "2.737476110458374│2.737476110458374│0.27622270584106445│0.27622270584106445\n",
      "3.0919551849365234│3.0919551849365234│0.0814519077539444│0.0814519077539444\n",
      "3.5008156299591064│3.5008156299591064│0.028751015663146973│0.028751015663146973\n",
      "3.940340757369995│3.940340757369995│0.008133718743920326│0.008133718743920326\n",
      "4.384536266326904│4.384536266326904│0.0037335376255214214│0.0037335376255214214\n",
      "4.788750648498535│4.788750648498535│0.0017482512630522251│0.0017482512630522251\n"
     ]
    },
    {
     "name": "stdout",
     "output_type": "stream",
     "text": [
      "\n"
     ]
    },
    {
     "data": {
      "application/vnd.jupyter.widget-view+json": {
       "model_id": "3173cc03a18b42a593b642f4d6e93ec7",
       "version_major": 2,
       "version_minor": 0
      },
      "text/plain": [
       "HBox(children=(HTML(value='Testing'), FloatProgress(value=1.0, bar_style='info', layout=Layout(flex='2'), max=…"
      ]
     },
     "metadata": {},
     "output_type": "display_data"
    },
    {
     "name": "stdout",
     "output_type": "stream",
     "text": [
      "--------------------------------------------------------------------------------\n",
      "DATALOADER:0 TEST RESULTS\n",
      "{'avg_test_loss': tensor(4.3974, device='cuda:0'),\n",
      " 'test_loss': tensor(4.3974, device='cuda:0')}\n",
      "--------------------------------------------------------------------------------\n",
      "\n",
      "torch.Size([100, 3, 28, 28])\n",
      "torch.Size([100, 10])\n",
      "torch.Size([100, 1, 28, 28])\n",
      "torch.Size([100, 10])\n",
      "Out of 100 data points, the models agreed upon 7.\n"
     ]
    }
   ],
   "source": [
    "import privacyraven as pr\n",
    "\n",
    "from privacyraven.utils.data import get_emnist_data\n",
    "from privacyraven.extraction.core import ModelExtractionAttack\n",
    "from privacyraven.utils.query import get_target\n",
    "from privacyraven.models.victim import train_mnist_victim\n",
    "from privacyraven.models.pytorch import ImagenetTransferLearning, ThreeLayerClassifier\n",
    "from pl_bolts.callbacks import PrintTableMetricsCallback\n",
    "\n",
    "callback = PrintTableMetricsCallback()\n",
    "\n",
    "# Create a query function for a target PyTorch Lightning model\n",
    "model = train_mnist_victim()\n",
    "\n",
    "\n",
    "def query_mnist(input_data):\n",
    "    # PrivacyRaven provides built-in query functions\n",
    "    return get_target(model, input_data, (1, 1, 28, 28))\n",
    "\n",
    "# Obtain seed (or public) data to be used in extraction\n",
    "emnist_train, emnist_test = get_emnist_data()\n",
    "\n",
    "# Run a model extraction attack\n",
    "attack = ModelExtractionAttack(\n",
    "    query=query_mnist,\n",
    "    query_limit=100,\n",
    "    victim_input_shape=(1, 1, 28, 28),\n",
    "    victim_output_targets=10,\n",
    "    substitute_input_shape=(1, 3, 28, 28),\n",
    "    synthesizer=\"copycat\",\n",
    "    substitute_model_arch=ImagenetTransferLearning,\n",
    "    substitute_input_size=1000,\n",
    "    seed_data_train=emnist_train,\n",
    "    seed_data_test=emnist_test,\n",
    "    callback=callback\n",
    ")\n",
    "\n"
   ]
  },
  {
   "cell_type": "code",
   "execution_count": 14,
   "metadata": {},
   "outputs": [
    {
     "name": "stdout",
     "output_type": "stream",
     "text": [
      "torch.Size([240000, 28, 28])\n",
      "test\n",
      "torch.Size([240000, 1, 28, 28])\n",
      "torch.Size([240000, 10])\n",
      "test\n",
      "torch.Size([240000, 10])\n",
      "torch.Size([240000])\n",
      "tensor(2)\n",
      "tensor(8)\n"
     ]
    }
   ],
   "source": [
    "from privacyraven.utils.query import query_model\n",
    "\n",
    "print(emnist_train.data.size())\n",
    "\n",
    "print(\"test\")\n",
    "\n",
    "\n",
    "a, b = query_model(model, emnist_train.data, (1, 1, 28, 28))\n",
    "\n",
    "print(\"test\")\n",
    "\n",
    "print(a.size())\n",
    "print(b.size())\n",
    "\n",
    "\n",
    "print(b[0])\n",
    "print(emnist_train.targets[0])"
   ]
  },
  {
   "cell_type": "code",
   "execution_count": 16,
   "metadata": {},
   "outputs": [
    {
     "name": "stdout",
     "output_type": "stream",
     "text": [
      "test\n",
      "torch.Size([1, 1, 28, 28])\n",
      "torch.Size([1, 10])\n",
      "Single\n"
     ]
    },
    {
     "ename": "TypeError",
     "evalue": "only integer tensors of a single element can be converted to an index",
     "output_type": "error",
     "traceback": [
      "\u001b[0;31m---------------------------------------------------------------------------\u001b[0m",
      "\u001b[0;31mTypeError\u001b[0m                                 Traceback (most recent call last)",
      "\u001b[0;32m<ipython-input-16-4fcadb3617eb>\u001b[0m in \u001b[0;36m<module>\u001b[0;34m\u001b[0m\n\u001b[1;32m      5\u001b[0m \u001b[0;34m\u001b[0m\u001b[0m\n\u001b[1;32m      6\u001b[0m \u001b[0;34m\u001b[0m\u001b[0m\n\u001b[0;32m----> 7\u001b[0;31m \u001b[0ma\u001b[0m\u001b[0;34m,\u001b[0m \u001b[0mb\u001b[0m \u001b[0;34m=\u001b[0m \u001b[0mquery_model\u001b[0m\u001b[0;34m(\u001b[0m\u001b[0mmodel\u001b[0m\u001b[0;34m,\u001b[0m \u001b[0mx\u001b[0m\u001b[0;34m,\u001b[0m \u001b[0;34m(\u001b[0m\u001b[0;36m1\u001b[0m\u001b[0;34m,\u001b[0m \u001b[0;36m1\u001b[0m\u001b[0;34m,\u001b[0m \u001b[0;36m28\u001b[0m\u001b[0;34m,\u001b[0m \u001b[0;36m28\u001b[0m\u001b[0;34m)\u001b[0m\u001b[0;34m)\u001b[0m\u001b[0;34m\u001b[0m\u001b[0;34m\u001b[0m\u001b[0m\n\u001b[0m\u001b[1;32m      8\u001b[0m \u001b[0;34m\u001b[0m\u001b[0m\n\u001b[1;32m      9\u001b[0m \u001b[0mprint\u001b[0m\u001b[0;34m(\u001b[0m\u001b[0;34m\"test\"\u001b[0m\u001b[0;34m)\u001b[0m\u001b[0;34m\u001b[0m\u001b[0;34m\u001b[0m\u001b[0m\n",
      "\u001b[0;32m~/Development/PrivacyRaven/src/privacyraven/utils/query.py\u001b[0m in \u001b[0;36mquery_model\u001b[0;34m(model, input_data, input_size)\u001b[0m\n\u001b[1;32m     81\u001b[0m     \u001b[0;32mif\u001b[0m \u001b[0mprediction\u001b[0m\u001b[0;34m.\u001b[0m\u001b[0msize\u001b[0m\u001b[0;34m(\u001b[0m\u001b[0;34m)\u001b[0m\u001b[0;34m[\u001b[0m\u001b[0;36m0\u001b[0m\u001b[0;34m]\u001b[0m \u001b[0;34m==\u001b[0m \u001b[0;36m1\u001b[0m\u001b[0;34m:\u001b[0m\u001b[0;34m\u001b[0m\u001b[0;34m\u001b[0m\u001b[0m\n\u001b[1;32m     82\u001b[0m         \u001b[0mprint\u001b[0m\u001b[0;34m(\u001b[0m\u001b[0;34m\"Single\"\u001b[0m\u001b[0;34m)\u001b[0m\u001b[0;34m\u001b[0m\u001b[0;34m\u001b[0m\u001b[0m\n\u001b[0;32m---> 83\u001b[0;31m         \u001b[0mtarget\u001b[0m \u001b[0;34m=\u001b[0m \u001b[0mtorch\u001b[0m\u001b[0;34m.\u001b[0m\u001b[0mtensor\u001b[0m\u001b[0;34m(\u001b[0m\u001b[0;34m[\u001b[0m\u001b[0mtorch\u001b[0m\u001b[0;34m.\u001b[0m\u001b[0margmax\u001b[0m\u001b[0;34m(\u001b[0m\u001b[0mprediction\u001b[0m\u001b[0;34m,\u001b[0m \u001b[0mdim\u001b[0m\u001b[0;34m=\u001b[0m\u001b[0;36m0\u001b[0m\u001b[0;34m,\u001b[0m \u001b[0mkeepdim\u001b[0m\u001b[0;34m=\u001b[0m\u001b[0;32mTrue\u001b[0m\u001b[0;34m)\u001b[0m\u001b[0;34m]\u001b[0m\u001b[0;34m)\u001b[0m\u001b[0;34m\u001b[0m\u001b[0;34m\u001b[0m\u001b[0m\n\u001b[0m\u001b[1;32m     84\u001b[0m     \u001b[0;32melse\u001b[0m\u001b[0;34m:\u001b[0m\u001b[0;34m\u001b[0m\u001b[0;34m\u001b[0m\u001b[0m\n\u001b[1;32m     85\u001b[0m         \u001b[0mtarget\u001b[0m \u001b[0;34m=\u001b[0m \u001b[0mtorch\u001b[0m\u001b[0;34m.\u001b[0m\u001b[0mtensor\u001b[0m\u001b[0;34m(\u001b[0m\u001b[0;34m[\u001b[0m\u001b[0mtorch\u001b[0m\u001b[0;34m.\u001b[0m\u001b[0margmax\u001b[0m\u001b[0;34m(\u001b[0m\u001b[0mrow\u001b[0m\u001b[0;34m,\u001b[0m \u001b[0mdim\u001b[0m\u001b[0;34m=\u001b[0m\u001b[0;36m0\u001b[0m\u001b[0;34m,\u001b[0m \u001b[0mkeepdim\u001b[0m\u001b[0;34m=\u001b[0m\u001b[0;32mTrue\u001b[0m\u001b[0;34m)\u001b[0m \u001b[0;32mfor\u001b[0m \u001b[0mrow\u001b[0m \u001b[0;32min\u001b[0m \u001b[0mtorch\u001b[0m\u001b[0;34m.\u001b[0m\u001b[0munbind\u001b[0m\u001b[0;34m(\u001b[0m\u001b[0mprediction\u001b[0m\u001b[0;34m)\u001b[0m\u001b[0;34m]\u001b[0m\u001b[0;34m)\u001b[0m\u001b[0;34m\u001b[0m\u001b[0;34m\u001b[0m\u001b[0m\n",
      "\u001b[0;31mTypeError\u001b[0m: only integer tensors of a single element can be converted to an index"
     ]
    }
   ],
   "source": [
    "import torch\n",
    "x = torch.reshape(emnist_train.data[0], (1, 1, 28, 28))\n",
    "\n",
    "print(\"test\")\n",
    "\n",
    "\n",
    "a, b = query_model(model, x, (1, 1, 28, 28))\n",
    "\n",
    "print(\"test\")\n",
    "\n",
    "print(a.size())\n",
    "print(b)"
   ]
  },
  {
   "cell_type": "code",
   "execution_count": 10,
   "metadata": {},
   "outputs": [
    {
     "data": {
      "text/plain": [
       "tensor([[6],\n",
       "        [8],\n",
       "        [8],\n",
       "        [8],\n",
       "        [4],\n",
       "        [0],\n",
       "        [0],\n",
       "        [5],\n",
       "        [0],\n",
       "        [0],\n",
       "        [8],\n",
       "        [3],\n",
       "        [4],\n",
       "        [4],\n",
       "        [3],\n",
       "        [0],\n",
       "        [0],\n",
       "        [7],\n",
       "        [0],\n",
       "        [0],\n",
       "        [0],\n",
       "        [3],\n",
       "        [0],\n",
       "        [8],\n",
       "        [0],\n",
       "        [0],\n",
       "        [1],\n",
       "        [0]], device='cuda:0')"
      ]
     },
     "execution_count": 10,
     "metadata": {},
     "output_type": "execute_result"
    }
   ],
   "source": [
    "import torch\n",
    "torch.argmax(a, dim=1, keepdim=True)"
   ]
  },
  {
   "cell_type": "code",
   "execution_count": 4,
   "metadata": {},
   "outputs": [],
   "source": [
    "subs = attack.substitute_model"
   ]
  },
  {
   "cell_type": "code",
   "execution_count": 5,
   "metadata": {},
   "outputs": [
    {
     "data": {
      "text/plain": [
       "privacyraven.models.pytorch.ImagenetTransferLearning"
      ]
     },
     "execution_count": 5,
     "metadata": {},
     "output_type": "execute_result"
    }
   ],
   "source": [
    "type(subs)"
   ]
  },
  {
   "cell_type": "code",
   "execution_count": 8,
   "metadata": {},
   "outputs": [],
   "source": [
    "def query_subs(input_data):\n",
    "    return get_target(subs, input_data, (1, 3, 28, 28))\n"
   ]
  },
  {
   "cell_type": "code",
   "execution_count": 9,
   "metadata": {},
   "outputs": [
    {
     "name": "stdout",
     "output_type": "stream",
     "text": [
      "tensor([9, 9, 9, 9, 9, 9, 9, 9, 9, 9, 9, 9, 5, 9, 9, 9, 9, 9, 9, 9, 9, 9, 9, 9,\n",
      "        9, 9, 9, 9])\n"
     ]
    }
   ],
   "source": [
    "print(query_subs(emnist_train.data[0]))"
   ]
  },
  {
   "cell_type": "code",
   "execution_count": 10,
   "metadata": {},
   "outputs": [
    {
     "name": "stdout",
     "output_type": "stream",
     "text": [
      "tensor(8)\n"
     ]
    }
   ],
   "source": [
    "print(emnist_train.targets[0])"
   ]
  },
  {
   "cell_type": "code",
   "execution_count": null,
   "metadata": {},
   "outputs": [],
   "source": [
    "# Do single tensor queries work now? "
   ]
  }
 ],
 "metadata": {
  "kernelspec": {
   "display_name": "Python 3",
   "language": "python",
   "name": "python3"
  },
  "language_info": {
   "codemirror_mode": {
    "name": "ipython",
    "version": 3
   },
   "file_extension": ".py",
   "mimetype": "text/x-python",
   "name": "python",
   "nbconvert_exporter": "python",
   "pygments_lexer": "ipython3",
   "version": "3.8.5"
  }
 },
 "nbformat": 4,
 "nbformat_minor": 4
}
